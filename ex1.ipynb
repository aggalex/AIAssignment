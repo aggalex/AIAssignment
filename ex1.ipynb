{
 "cells": [
  {
   "cell_type": "code",
   "execution_count": 2,
   "outputs": [
    {
     "name": "stderr",
     "output_type": "stream",
     "text": [
      "2022-05-23 12:31:20.902403: W tensorflow/stream_executor/platform/default/dso_loader.cc:64] Could not load dynamic library 'libcudart.so.11.0'; dlerror: libcudart.so.11.0: cannot open shared object file: No such file or directory\n",
      "2022-05-23 12:31:20.902431: I tensorflow/stream_executor/cuda/cudart_stub.cc:29] Ignore above cudart dlerror if you do not have a GPU set up on your machine.\n"
     ]
    }
   ],
   "source": [
    "import tensorflow\n",
    "import keras.losses\n",
    "import pandas\n",
    "import requests\n",
    "\n",
    "\n",
    "def fetch(**kwargs):\n",
    "    auth = kwargs[\"auth\"]\n",
    "    link = kwargs[\"url\"]\n",
    "\n",
    "    return requests.get(link, headers={\n",
    "        'Authorization': f'Token {auth}'\n",
    "    })\n",
    "\n",
    "\n",
    "def save(**kwargs):\n",
    "    with open(kwargs[\"file\"], \"wb\") as file:\n",
    "        res = fetch(**kwargs)\n",
    "        res.raise_for_status()\n",
    "        file.write(res.content)\n"
   ],
   "metadata": {
    "collapsed": false,
    "pycharm": {
     "name": "#%%\n"
    }
   }
  },
  {
   "cell_type": "markdown",
   "source": [
    "## Data Fetching\n",
    "\n",
    "If the data.csv file doesn't exists, we fetch it from [data.gov.gr](https://data.gov.gr/). This way, we don't have to rehit the endpoint each time we run the code.\n",
    "\n",
    "To enforce a retrieval from the endpoint, delete or empty out the `data.csv` file."
   ],
   "metadata": {
    "collapsed": false,
    "pycharm": {
     "name": "#%% md\n"
    }
   }
  },
  {
   "cell_type": "code",
   "execution_count": 3,
   "outputs": [
    {
     "data": {
      "text/plain": "        Unnamed: 0  dv_validations  dv_agency dv_platenum_station  dv_route  \\\n0                0            3319          1                 UKN       NaN   \n1                1              96          2                 KΑT       NaN   \n2                2             213          2            KΑTΕΧΑKΗ       NaN   \n3                3             404          2        KΑTΩ ΠΑTΗΣΙΑ       NaN   \n4                4             326          2            KΑΛΛΙΘΕΑ       NaN   \n...            ...             ...        ...                 ...       ...   \n181424      181424             860          4                TRAM       NaN   \n181425      181425             729          4                TRAM       NaN   \n181426      181426             554          4                TRAM       NaN   \n181427      181427             444          4                TRAM       NaN   \n181428      181428             359          4                TRAM       NaN   \n\n        routes_per_hour               load_dt             date_hour  \n0                   NaN  2022-01-06T06:15:36Z  2022-01-05T23:00:00Z  \n1                   NaN  2022-01-06T06:15:51Z  2022-01-05T23:00:00Z  \n2                   NaN  2022-01-06T06:15:51Z  2022-01-05T23:00:00Z  \n3                   NaN  2022-01-06T06:15:51Z  2022-01-05T23:00:00Z  \n4                   NaN  2022-01-06T06:15:51Z  2022-01-05T23:00:00Z  \n...                 ...                   ...                   ...  \n181424              NaN  2022-05-10T05:48:25Z  2022-05-09T20:00:00Z  \n181425              NaN  2022-05-10T05:48:25Z  2022-05-09T21:00:00Z  \n181426              NaN  2022-05-10T05:48:25Z  2022-05-09T22:00:00Z  \n181427              NaN  2022-05-10T05:48:25Z  2022-05-09T23:00:00Z  \n181428              NaN  2022-05-10T05:48:25Z  2022-05-10T00:00:00Z  \n\n[181429 rows x 8 columns]",
      "text/html": "<div>\n<style scoped>\n    .dataframe tbody tr th:only-of-type {\n        vertical-align: middle;\n    }\n\n    .dataframe tbody tr th {\n        vertical-align: top;\n    }\n\n    .dataframe thead th {\n        text-align: right;\n    }\n</style>\n<table border=\"1\" class=\"dataframe\">\n  <thead>\n    <tr style=\"text-align: right;\">\n      <th></th>\n      <th>Unnamed: 0</th>\n      <th>dv_validations</th>\n      <th>dv_agency</th>\n      <th>dv_platenum_station</th>\n      <th>dv_route</th>\n      <th>routes_per_hour</th>\n      <th>load_dt</th>\n      <th>date_hour</th>\n    </tr>\n  </thead>\n  <tbody>\n    <tr>\n      <th>0</th>\n      <td>0</td>\n      <td>3319</td>\n      <td>1</td>\n      <td>UKN</td>\n      <td>NaN</td>\n      <td>NaN</td>\n      <td>2022-01-06T06:15:36Z</td>\n      <td>2022-01-05T23:00:00Z</td>\n    </tr>\n    <tr>\n      <th>1</th>\n      <td>1</td>\n      <td>96</td>\n      <td>2</td>\n      <td>KΑT</td>\n      <td>NaN</td>\n      <td>NaN</td>\n      <td>2022-01-06T06:15:51Z</td>\n      <td>2022-01-05T23:00:00Z</td>\n    </tr>\n    <tr>\n      <th>2</th>\n      <td>2</td>\n      <td>213</td>\n      <td>2</td>\n      <td>KΑTΕΧΑKΗ</td>\n      <td>NaN</td>\n      <td>NaN</td>\n      <td>2022-01-06T06:15:51Z</td>\n      <td>2022-01-05T23:00:00Z</td>\n    </tr>\n    <tr>\n      <th>3</th>\n      <td>3</td>\n      <td>404</td>\n      <td>2</td>\n      <td>KΑTΩ ΠΑTΗΣΙΑ</td>\n      <td>NaN</td>\n      <td>NaN</td>\n      <td>2022-01-06T06:15:51Z</td>\n      <td>2022-01-05T23:00:00Z</td>\n    </tr>\n    <tr>\n      <th>4</th>\n      <td>4</td>\n      <td>326</td>\n      <td>2</td>\n      <td>KΑΛΛΙΘΕΑ</td>\n      <td>NaN</td>\n      <td>NaN</td>\n      <td>2022-01-06T06:15:51Z</td>\n      <td>2022-01-05T23:00:00Z</td>\n    </tr>\n    <tr>\n      <th>...</th>\n      <td>...</td>\n      <td>...</td>\n      <td>...</td>\n      <td>...</td>\n      <td>...</td>\n      <td>...</td>\n      <td>...</td>\n      <td>...</td>\n    </tr>\n    <tr>\n      <th>181424</th>\n      <td>181424</td>\n      <td>860</td>\n      <td>4</td>\n      <td>TRAM</td>\n      <td>NaN</td>\n      <td>NaN</td>\n      <td>2022-05-10T05:48:25Z</td>\n      <td>2022-05-09T20:00:00Z</td>\n    </tr>\n    <tr>\n      <th>181425</th>\n      <td>181425</td>\n      <td>729</td>\n      <td>4</td>\n      <td>TRAM</td>\n      <td>NaN</td>\n      <td>NaN</td>\n      <td>2022-05-10T05:48:25Z</td>\n      <td>2022-05-09T21:00:00Z</td>\n    </tr>\n    <tr>\n      <th>181426</th>\n      <td>181426</td>\n      <td>554</td>\n      <td>4</td>\n      <td>TRAM</td>\n      <td>NaN</td>\n      <td>NaN</td>\n      <td>2022-05-10T05:48:25Z</td>\n      <td>2022-05-09T22:00:00Z</td>\n    </tr>\n    <tr>\n      <th>181427</th>\n      <td>181427</td>\n      <td>444</td>\n      <td>4</td>\n      <td>TRAM</td>\n      <td>NaN</td>\n      <td>NaN</td>\n      <td>2022-05-10T05:48:25Z</td>\n      <td>2022-05-09T23:00:00Z</td>\n    </tr>\n    <tr>\n      <th>181428</th>\n      <td>181428</td>\n      <td>359</td>\n      <td>4</td>\n      <td>TRAM</td>\n      <td>NaN</td>\n      <td>NaN</td>\n      <td>2022-05-10T05:48:25Z</td>\n      <td>2022-05-10T00:00:00Z</td>\n    </tr>\n  </tbody>\n</table>\n<p>181429 rows × 8 columns</p>\n</div>"
     },
     "execution_count": 3,
     "metadata": {},
     "output_type": "execute_result"
    }
   ],
   "source": [
    "from time import sleep\n",
    "import pandas as pd\n",
    "from os.path import exists, getsize\n",
    "\n",
    "if not exists('data.csv') or getsize('data.csv') == 0:\n",
    "    save(\n",
    "        auth = '96db63ce26cec6c95e7ff8e1b882528001830450',\n",
    "        url = 'https://data.gov.gr/api/v1/query/oasa_ridership?date_from=2022-01-01&date_to=2022-05-10',\n",
    "        file = '2022.json'\n",
    "    )\n",
    "    json = pd.read_json('2022.json')\n",
    "    json.to_csv('data.csv')\n",
    "\n",
    "data = pd.read_csv('data.csv')\n",
    "data"
   ],
   "metadata": {
    "collapsed": false,
    "pycharm": {
     "name": "#%%\n"
    }
   }
  },
  {
   "cell_type": "markdown",
   "source": [
    "## Data cleanup\n",
    "\n",
    "We remove unneeded columns, like the first column which is unnamed and is just the index, or columns filled with null values. We also split the date/time columns as needed."
   ],
   "metadata": {
    "collapsed": false,
    "pycharm": {
     "name": "#%% md\n"
    }
   }
  },
  {
   "cell_type": "code",
   "execution_count": 4,
   "outputs": [
    {
     "data": {
      "text/plain": "        validations       station        date      hour\n0              3319           UKN  2022-01-05  23:00:00\n1                96           KΑT  2022-01-05  23:00:00\n2               213      KΑTΕΧΑKΗ  2022-01-05  23:00:00\n3               404  KΑTΩ ΠΑTΗΣΙΑ  2022-01-05  23:00:00\n4               326      KΑΛΛΙΘΕΑ  2022-01-05  23:00:00\n...             ...           ...         ...       ...\n181424          860          TRAM  2022-05-09  20:00:00\n181425          729          TRAM  2022-05-09  21:00:00\n181426          554          TRAM  2022-05-09  22:00:00\n181427          444          TRAM  2022-05-09  23:00:00\n181428          359          TRAM  2022-05-10  00:00:00\n\n[181429 rows x 4 columns]",
      "text/html": "<div>\n<style scoped>\n    .dataframe tbody tr th:only-of-type {\n        vertical-align: middle;\n    }\n\n    .dataframe tbody tr th {\n        vertical-align: top;\n    }\n\n    .dataframe thead th {\n        text-align: right;\n    }\n</style>\n<table border=\"1\" class=\"dataframe\">\n  <thead>\n    <tr style=\"text-align: right;\">\n      <th></th>\n      <th>validations</th>\n      <th>station</th>\n      <th>date</th>\n      <th>hour</th>\n    </tr>\n  </thead>\n  <tbody>\n    <tr>\n      <th>0</th>\n      <td>3319</td>\n      <td>UKN</td>\n      <td>2022-01-05</td>\n      <td>23:00:00</td>\n    </tr>\n    <tr>\n      <th>1</th>\n      <td>96</td>\n      <td>KΑT</td>\n      <td>2022-01-05</td>\n      <td>23:00:00</td>\n    </tr>\n    <tr>\n      <th>2</th>\n      <td>213</td>\n      <td>KΑTΕΧΑKΗ</td>\n      <td>2022-01-05</td>\n      <td>23:00:00</td>\n    </tr>\n    <tr>\n      <th>3</th>\n      <td>404</td>\n      <td>KΑTΩ ΠΑTΗΣΙΑ</td>\n      <td>2022-01-05</td>\n      <td>23:00:00</td>\n    </tr>\n    <tr>\n      <th>4</th>\n      <td>326</td>\n      <td>KΑΛΛΙΘΕΑ</td>\n      <td>2022-01-05</td>\n      <td>23:00:00</td>\n    </tr>\n    <tr>\n      <th>...</th>\n      <td>...</td>\n      <td>...</td>\n      <td>...</td>\n      <td>...</td>\n    </tr>\n    <tr>\n      <th>181424</th>\n      <td>860</td>\n      <td>TRAM</td>\n      <td>2022-05-09</td>\n      <td>20:00:00</td>\n    </tr>\n    <tr>\n      <th>181425</th>\n      <td>729</td>\n      <td>TRAM</td>\n      <td>2022-05-09</td>\n      <td>21:00:00</td>\n    </tr>\n    <tr>\n      <th>181426</th>\n      <td>554</td>\n      <td>TRAM</td>\n      <td>2022-05-09</td>\n      <td>22:00:00</td>\n    </tr>\n    <tr>\n      <th>181427</th>\n      <td>444</td>\n      <td>TRAM</td>\n      <td>2022-05-09</td>\n      <td>23:00:00</td>\n    </tr>\n    <tr>\n      <th>181428</th>\n      <td>359</td>\n      <td>TRAM</td>\n      <td>2022-05-10</td>\n      <td>00:00:00</td>\n    </tr>\n  </tbody>\n</table>\n<p>181429 rows × 4 columns</p>\n</div>"
     },
     "execution_count": 4,
     "metadata": {},
     "output_type": "execute_result"
    }
   ],
   "source": [
    "data[['date', 'hour']] = data['date_hour'].str.split('T', expand=True)\n",
    "data['hour'] = data['hour'].map(lambda x: x[:-1] if x[-1] == \"Z\" else x)\n",
    "data = data[['dv_validations', 'dv_platenum_station', 'date', 'hour']]\n",
    "data = data.rename(columns = {\n",
    "    'dv_validations': 'validations',\n",
    "    'dv_platenum_station': 'station'\n",
    "})\n",
    "data"
   ],
   "metadata": {
    "collapsed": false,
    "pycharm": {
     "name": "#%%\n"
    }
   }
  },
  {
   "cell_type": "markdown",
   "source": [
    "## Preprocessing\n",
    "\n",
    "We turn string data into numbered ones"
   ],
   "metadata": {
    "collapsed": false,
    "pycharm": {
     "name": "#%% md\n"
    }
   }
  },
  {
   "cell_type": "code",
   "execution_count": 5,
   "outputs": [
    {
     "data": {
      "text/plain": "        validations       station        date      hour  station_id\n0              3319           UKN  2022-01-05  23:00:00           0\n1                96           KΑT  2022-01-05  23:00:00           1\n2               213      KΑTΕΧΑKΗ  2022-01-05  23:00:00           2\n3               404  KΑTΩ ΠΑTΗΣΙΑ  2022-01-05  23:00:00           3\n4               326      KΑΛΛΙΘΕΑ  2022-01-05  23:00:00           4\n...             ...           ...         ...       ...         ...\n181424          860          TRAM  2022-05-09  20:00:00          73\n181425          729          TRAM  2022-05-09  21:00:00          73\n181426          554          TRAM  2022-05-09  22:00:00          73\n181427          444          TRAM  2022-05-09  23:00:00          73\n181428          359          TRAM  2022-05-10  00:00:00          73\n\n[181429 rows x 5 columns]",
      "text/html": "<div>\n<style scoped>\n    .dataframe tbody tr th:only-of-type {\n        vertical-align: middle;\n    }\n\n    .dataframe tbody tr th {\n        vertical-align: top;\n    }\n\n    .dataframe thead th {\n        text-align: right;\n    }\n</style>\n<table border=\"1\" class=\"dataframe\">\n  <thead>\n    <tr style=\"text-align: right;\">\n      <th></th>\n      <th>validations</th>\n      <th>station</th>\n      <th>date</th>\n      <th>hour</th>\n      <th>station_id</th>\n    </tr>\n  </thead>\n  <tbody>\n    <tr>\n      <th>0</th>\n      <td>3319</td>\n      <td>UKN</td>\n      <td>2022-01-05</td>\n      <td>23:00:00</td>\n      <td>0</td>\n    </tr>\n    <tr>\n      <th>1</th>\n      <td>96</td>\n      <td>KΑT</td>\n      <td>2022-01-05</td>\n      <td>23:00:00</td>\n      <td>1</td>\n    </tr>\n    <tr>\n      <th>2</th>\n      <td>213</td>\n      <td>KΑTΕΧΑKΗ</td>\n      <td>2022-01-05</td>\n      <td>23:00:00</td>\n      <td>2</td>\n    </tr>\n    <tr>\n      <th>3</th>\n      <td>404</td>\n      <td>KΑTΩ ΠΑTΗΣΙΑ</td>\n      <td>2022-01-05</td>\n      <td>23:00:00</td>\n      <td>3</td>\n    </tr>\n    <tr>\n      <th>4</th>\n      <td>326</td>\n      <td>KΑΛΛΙΘΕΑ</td>\n      <td>2022-01-05</td>\n      <td>23:00:00</td>\n      <td>4</td>\n    </tr>\n    <tr>\n      <th>...</th>\n      <td>...</td>\n      <td>...</td>\n      <td>...</td>\n      <td>...</td>\n      <td>...</td>\n    </tr>\n    <tr>\n      <th>181424</th>\n      <td>860</td>\n      <td>TRAM</td>\n      <td>2022-05-09</td>\n      <td>20:00:00</td>\n      <td>73</td>\n    </tr>\n    <tr>\n      <th>181425</th>\n      <td>729</td>\n      <td>TRAM</td>\n      <td>2022-05-09</td>\n      <td>21:00:00</td>\n      <td>73</td>\n    </tr>\n    <tr>\n      <th>181426</th>\n      <td>554</td>\n      <td>TRAM</td>\n      <td>2022-05-09</td>\n      <td>22:00:00</td>\n      <td>73</td>\n    </tr>\n    <tr>\n      <th>181427</th>\n      <td>444</td>\n      <td>TRAM</td>\n      <td>2022-05-09</td>\n      <td>23:00:00</td>\n      <td>73</td>\n    </tr>\n    <tr>\n      <th>181428</th>\n      <td>359</td>\n      <td>TRAM</td>\n      <td>2022-05-10</td>\n      <td>00:00:00</td>\n      <td>73</td>\n    </tr>\n  </tbody>\n</table>\n<p>181429 rows × 5 columns</p>\n</div>"
     },
     "execution_count": 5,
     "metadata": {},
     "output_type": "execute_result"
    }
   ],
   "source": [
    "class Indexer(dict):\n",
    "    items = {}\n",
    "    __next_id = 0\n",
    "\n",
    "    def __getitem__(self, item):\n",
    "        if item in self.items:\n",
    "            return self.items[item]\n",
    "        else:\n",
    "            self.items[item] = self.__next_id\n",
    "            self.__next_id += 1\n",
    "            return self.__next_id - 1\n",
    "\n",
    "    def __invert__(self):\n",
    "        return {i: item for item, i in self.items}\n",
    "\n",
    "stations = Indexer()\n",
    "\n",
    "data['station_id'] = data['station'].map(stations.__getitem__)\n",
    "data"
   ],
   "metadata": {
    "collapsed": false,
    "pycharm": {
     "name": "#%%\n"
    }
   }
  },
  {
   "cell_type": "markdown",
   "source": [
    "we split dates and times"
   ],
   "metadata": {
    "collapsed": false,
    "pycharm": {
     "name": "#%% md\n"
    }
   }
  },
  {
   "cell_type": "code",
   "execution_count": 6,
   "outputs": [
    {
     "data": {
      "text/plain": "        validations       station        date  hour  station_id  year  day  \\\n0              3319           UKN  2022-01-05    23           0  2022    1   \n1                96           KΑT  2022-01-05    23           1  2022    1   \n2               213      KΑTΕΧΑKΗ  2022-01-05    23           2  2022    1   \n3               404  KΑTΩ ΠΑTΗΣΙΑ  2022-01-05    23           3  2022    1   \n4               326      KΑΛΛΙΘΕΑ  2022-01-05    23           4  2022    1   \n...             ...           ...         ...   ...         ...   ...  ...   \n181424          860          TRAM  2022-05-09    20          73  2022    5   \n181425          729          TRAM  2022-05-09    21          73  2022    5   \n181426          554          TRAM  2022-05-09    22          73  2022    5   \n181427          444          TRAM  2022-05-09    23          73  2022    5   \n181428          359          TRAM  2022-05-10     0          73  2022    5   \n\n        month  \n0           5  \n1           5  \n2           5  \n3           5  \n4           5  \n...       ...  \n181424      9  \n181425      9  \n181426      9  \n181427      9  \n181428     10  \n\n[181429 rows x 8 columns]",
      "text/html": "<div>\n<style scoped>\n    .dataframe tbody tr th:only-of-type {\n        vertical-align: middle;\n    }\n\n    .dataframe tbody tr th {\n        vertical-align: top;\n    }\n\n    .dataframe thead th {\n        text-align: right;\n    }\n</style>\n<table border=\"1\" class=\"dataframe\">\n  <thead>\n    <tr style=\"text-align: right;\">\n      <th></th>\n      <th>validations</th>\n      <th>station</th>\n      <th>date</th>\n      <th>hour</th>\n      <th>station_id</th>\n      <th>year</th>\n      <th>day</th>\n      <th>month</th>\n    </tr>\n  </thead>\n  <tbody>\n    <tr>\n      <th>0</th>\n      <td>3319</td>\n      <td>UKN</td>\n      <td>2022-01-05</td>\n      <td>23</td>\n      <td>0</td>\n      <td>2022</td>\n      <td>1</td>\n      <td>5</td>\n    </tr>\n    <tr>\n      <th>1</th>\n      <td>96</td>\n      <td>KΑT</td>\n      <td>2022-01-05</td>\n      <td>23</td>\n      <td>1</td>\n      <td>2022</td>\n      <td>1</td>\n      <td>5</td>\n    </tr>\n    <tr>\n      <th>2</th>\n      <td>213</td>\n      <td>KΑTΕΧΑKΗ</td>\n      <td>2022-01-05</td>\n      <td>23</td>\n      <td>2</td>\n      <td>2022</td>\n      <td>1</td>\n      <td>5</td>\n    </tr>\n    <tr>\n      <th>3</th>\n      <td>404</td>\n      <td>KΑTΩ ΠΑTΗΣΙΑ</td>\n      <td>2022-01-05</td>\n      <td>23</td>\n      <td>3</td>\n      <td>2022</td>\n      <td>1</td>\n      <td>5</td>\n    </tr>\n    <tr>\n      <th>4</th>\n      <td>326</td>\n      <td>KΑΛΛΙΘΕΑ</td>\n      <td>2022-01-05</td>\n      <td>23</td>\n      <td>4</td>\n      <td>2022</td>\n      <td>1</td>\n      <td>5</td>\n    </tr>\n    <tr>\n      <th>...</th>\n      <td>...</td>\n      <td>...</td>\n      <td>...</td>\n      <td>...</td>\n      <td>...</td>\n      <td>...</td>\n      <td>...</td>\n      <td>...</td>\n    </tr>\n    <tr>\n      <th>181424</th>\n      <td>860</td>\n      <td>TRAM</td>\n      <td>2022-05-09</td>\n      <td>20</td>\n      <td>73</td>\n      <td>2022</td>\n      <td>5</td>\n      <td>9</td>\n    </tr>\n    <tr>\n      <th>181425</th>\n      <td>729</td>\n      <td>TRAM</td>\n      <td>2022-05-09</td>\n      <td>21</td>\n      <td>73</td>\n      <td>2022</td>\n      <td>5</td>\n      <td>9</td>\n    </tr>\n    <tr>\n      <th>181426</th>\n      <td>554</td>\n      <td>TRAM</td>\n      <td>2022-05-09</td>\n      <td>22</td>\n      <td>73</td>\n      <td>2022</td>\n      <td>5</td>\n      <td>9</td>\n    </tr>\n    <tr>\n      <th>181427</th>\n      <td>444</td>\n      <td>TRAM</td>\n      <td>2022-05-09</td>\n      <td>23</td>\n      <td>73</td>\n      <td>2022</td>\n      <td>5</td>\n      <td>9</td>\n    </tr>\n    <tr>\n      <th>181428</th>\n      <td>359</td>\n      <td>TRAM</td>\n      <td>2022-05-10</td>\n      <td>0</td>\n      <td>73</td>\n      <td>2022</td>\n      <td>5</td>\n      <td>10</td>\n    </tr>\n  </tbody>\n</table>\n<p>181429 rows × 8 columns</p>\n</div>"
     },
     "execution_count": 6,
     "metadata": {},
     "output_type": "execute_result"
    }
   ],
   "source": [
    "data[['year', 'day', 'month']] = data['date'].str.split('-', expand=True)\n",
    "data['year'] = data['year'].map(int)\n",
    "data['month'] = data['month'].map(int)\n",
    "data['day'] = data['day'].map(int)\n",
    "data['hour'] = data['hour'].map(lambda time: int(str(time).split(':')[0]))\n",
    "data"
   ],
   "metadata": {
    "collapsed": false,
    "pycharm": {
     "name": "#%%\n"
    }
   }
  },
  {
   "cell_type": "markdown",
   "source": [
    "Replace numeric data in `validations` with new `congestion` column, holding ordered nominal classes for classification"
   ],
   "metadata": {
    "collapsed": false,
    "pycharm": {
     "name": "#%% md\n"
    }
   }
  },
  {
   "cell_type": "code",
   "execution_count": 7,
   "outputs": [
    {
     "data": {
      "text/plain": "             station        date  hour  station_id  year  day  month  \\\n0                UKN  2022-01-05    23           0  2022    1      5   \n1                KΑT  2022-01-05    23           1  2022    1      5   \n2           KΑTΕΧΑKΗ  2022-01-05    23           2  2022    1      5   \n3       KΑTΩ ΠΑTΗΣΙΑ  2022-01-05    23           3  2022    1      5   \n4           KΑΛΛΙΘΕΑ  2022-01-05    23           4  2022    1      5   \n...              ...         ...   ...         ...   ...  ...    ...   \n181424          TRAM  2022-05-09    20          73  2022    5      9   \n181425          TRAM  2022-05-09    21          73  2022    5      9   \n181426          TRAM  2022-05-09    22          73  2022    5      9   \n181427          TRAM  2022-05-09    23          73  2022    5      9   \n181428          TRAM  2022-05-10     0          73  2022    5     10   \n\n        congestion  \n0                1  \n1                0  \n2                0  \n3                0  \n4                0  \n...            ...  \n181424           0  \n181425           0  \n181426           0  \n181427           0  \n181428           0  \n\n[181429 rows x 8 columns]",
      "text/html": "<div>\n<style scoped>\n    .dataframe tbody tr th:only-of-type {\n        vertical-align: middle;\n    }\n\n    .dataframe tbody tr th {\n        vertical-align: top;\n    }\n\n    .dataframe thead th {\n        text-align: right;\n    }\n</style>\n<table border=\"1\" class=\"dataframe\">\n  <thead>\n    <tr style=\"text-align: right;\">\n      <th></th>\n      <th>station</th>\n      <th>date</th>\n      <th>hour</th>\n      <th>station_id</th>\n      <th>year</th>\n      <th>day</th>\n      <th>month</th>\n      <th>congestion</th>\n    </tr>\n  </thead>\n  <tbody>\n    <tr>\n      <th>0</th>\n      <td>UKN</td>\n      <td>2022-01-05</td>\n      <td>23</td>\n      <td>0</td>\n      <td>2022</td>\n      <td>1</td>\n      <td>5</td>\n      <td>1</td>\n    </tr>\n    <tr>\n      <th>1</th>\n      <td>KΑT</td>\n      <td>2022-01-05</td>\n      <td>23</td>\n      <td>1</td>\n      <td>2022</td>\n      <td>1</td>\n      <td>5</td>\n      <td>0</td>\n    </tr>\n    <tr>\n      <th>2</th>\n      <td>KΑTΕΧΑKΗ</td>\n      <td>2022-01-05</td>\n      <td>23</td>\n      <td>2</td>\n      <td>2022</td>\n      <td>1</td>\n      <td>5</td>\n      <td>0</td>\n    </tr>\n    <tr>\n      <th>3</th>\n      <td>KΑTΩ ΠΑTΗΣΙΑ</td>\n      <td>2022-01-05</td>\n      <td>23</td>\n      <td>3</td>\n      <td>2022</td>\n      <td>1</td>\n      <td>5</td>\n      <td>0</td>\n    </tr>\n    <tr>\n      <th>4</th>\n      <td>KΑΛΛΙΘΕΑ</td>\n      <td>2022-01-05</td>\n      <td>23</td>\n      <td>4</td>\n      <td>2022</td>\n      <td>1</td>\n      <td>5</td>\n      <td>0</td>\n    </tr>\n    <tr>\n      <th>...</th>\n      <td>...</td>\n      <td>...</td>\n      <td>...</td>\n      <td>...</td>\n      <td>...</td>\n      <td>...</td>\n      <td>...</td>\n      <td>...</td>\n    </tr>\n    <tr>\n      <th>181424</th>\n      <td>TRAM</td>\n      <td>2022-05-09</td>\n      <td>20</td>\n      <td>73</td>\n      <td>2022</td>\n      <td>5</td>\n      <td>9</td>\n      <td>0</td>\n    </tr>\n    <tr>\n      <th>181425</th>\n      <td>TRAM</td>\n      <td>2022-05-09</td>\n      <td>21</td>\n      <td>73</td>\n      <td>2022</td>\n      <td>5</td>\n      <td>9</td>\n      <td>0</td>\n    </tr>\n    <tr>\n      <th>181426</th>\n      <td>TRAM</td>\n      <td>2022-05-09</td>\n      <td>22</td>\n      <td>73</td>\n      <td>2022</td>\n      <td>5</td>\n      <td>9</td>\n      <td>0</td>\n    </tr>\n    <tr>\n      <th>181427</th>\n      <td>TRAM</td>\n      <td>2022-05-09</td>\n      <td>23</td>\n      <td>73</td>\n      <td>2022</td>\n      <td>5</td>\n      <td>9</td>\n      <td>0</td>\n    </tr>\n    <tr>\n      <th>181428</th>\n      <td>TRAM</td>\n      <td>2022-05-10</td>\n      <td>0</td>\n      <td>73</td>\n      <td>2022</td>\n      <td>5</td>\n      <td>10</td>\n      <td>0</td>\n    </tr>\n  </tbody>\n</table>\n<p>181429 rows × 8 columns</p>\n</div>"
     },
     "execution_count": 7,
     "metadata": {},
     "output_type": "execute_result"
    }
   ],
   "source": [
    "from math import floor\n",
    "\n",
    "N_CLASSES = 10\n",
    "\n",
    "max_validations = data['validations'].max()\n",
    "data['congestion'] = data['validations'].map(lambda x: floor(N_CLASSES * x / max_validations))\n",
    "data = data.drop(columns='validations')\n",
    "\n",
    "data"
   ],
   "metadata": {
    "collapsed": false,
    "pycharm": {
     "name": "#%%\n"
    }
   }
  },
  {
   "cell_type": "code",
   "execution_count": 8,
   "outputs": [
    {
     "data": {
      "text/plain": "         station        date  hour  station_id  year  day  month  congestion\n0            UKN  2022-01-05    23           0  2022    1      5           1\n77           UKN  2022-01-05    22           0  2022    1      5           2\n154          UKN  2022-01-05    21           0  2022    1      5           2\n164       ΑTTΙKΗ  2022-01-05    21          10  2022    1      5           1\n214     ΣΥΝTΑΓΜΑ  2022-01-05    21          60  2022    1      5           1\n...          ...         ...   ...         ...   ...  ...    ...         ...\n181123  ΣΥΝTΑΓΜΑ  2022-05-09    20          60  2022    5      9           2\n181124  ΣΥΝTΑΓΜΑ  2022-05-09    21          60  2022    5      9           2\n181125  ΣΥΝTΑΓΜΑ  2022-05-09    22          60  2022    5      9           1\n181126  ΣΥΝTΑΓΜΑ  2022-05-09    23          60  2022    5      9           1\n181127  ΣΥΝTΑΓΜΑ  2022-05-10     0          60  2022    5     10           1\n\n[8620 rows x 8 columns]",
      "text/html": "<div>\n<style scoped>\n    .dataframe tbody tr th:only-of-type {\n        vertical-align: middle;\n    }\n\n    .dataframe tbody tr th {\n        vertical-align: top;\n    }\n\n    .dataframe thead th {\n        text-align: right;\n    }\n</style>\n<table border=\"1\" class=\"dataframe\">\n  <thead>\n    <tr style=\"text-align: right;\">\n      <th></th>\n      <th>station</th>\n      <th>date</th>\n      <th>hour</th>\n      <th>station_id</th>\n      <th>year</th>\n      <th>day</th>\n      <th>month</th>\n      <th>congestion</th>\n    </tr>\n  </thead>\n  <tbody>\n    <tr>\n      <th>0</th>\n      <td>UKN</td>\n      <td>2022-01-05</td>\n      <td>23</td>\n      <td>0</td>\n      <td>2022</td>\n      <td>1</td>\n      <td>5</td>\n      <td>1</td>\n    </tr>\n    <tr>\n      <th>77</th>\n      <td>UKN</td>\n      <td>2022-01-05</td>\n      <td>22</td>\n      <td>0</td>\n      <td>2022</td>\n      <td>1</td>\n      <td>5</td>\n      <td>2</td>\n    </tr>\n    <tr>\n      <th>154</th>\n      <td>UKN</td>\n      <td>2022-01-05</td>\n      <td>21</td>\n      <td>0</td>\n      <td>2022</td>\n      <td>1</td>\n      <td>5</td>\n      <td>2</td>\n    </tr>\n    <tr>\n      <th>164</th>\n      <td>ΑTTΙKΗ</td>\n      <td>2022-01-05</td>\n      <td>21</td>\n      <td>10</td>\n      <td>2022</td>\n      <td>1</td>\n      <td>5</td>\n      <td>1</td>\n    </tr>\n    <tr>\n      <th>214</th>\n      <td>ΣΥΝTΑΓΜΑ</td>\n      <td>2022-01-05</td>\n      <td>21</td>\n      <td>60</td>\n      <td>2022</td>\n      <td>1</td>\n      <td>5</td>\n      <td>1</td>\n    </tr>\n    <tr>\n      <th>...</th>\n      <td>...</td>\n      <td>...</td>\n      <td>...</td>\n      <td>...</td>\n      <td>...</td>\n      <td>...</td>\n      <td>...</td>\n      <td>...</td>\n    </tr>\n    <tr>\n      <th>181123</th>\n      <td>ΣΥΝTΑΓΜΑ</td>\n      <td>2022-05-09</td>\n      <td>20</td>\n      <td>60</td>\n      <td>2022</td>\n      <td>5</td>\n      <td>9</td>\n      <td>2</td>\n    </tr>\n    <tr>\n      <th>181124</th>\n      <td>ΣΥΝTΑΓΜΑ</td>\n      <td>2022-05-09</td>\n      <td>21</td>\n      <td>60</td>\n      <td>2022</td>\n      <td>5</td>\n      <td>9</td>\n      <td>2</td>\n    </tr>\n    <tr>\n      <th>181125</th>\n      <td>ΣΥΝTΑΓΜΑ</td>\n      <td>2022-05-09</td>\n      <td>22</td>\n      <td>60</td>\n      <td>2022</td>\n      <td>5</td>\n      <td>9</td>\n      <td>1</td>\n    </tr>\n    <tr>\n      <th>181126</th>\n      <td>ΣΥΝTΑΓΜΑ</td>\n      <td>2022-05-09</td>\n      <td>23</td>\n      <td>60</td>\n      <td>2022</td>\n      <td>5</td>\n      <td>9</td>\n      <td>1</td>\n    </tr>\n    <tr>\n      <th>181127</th>\n      <td>ΣΥΝTΑΓΜΑ</td>\n      <td>2022-05-10</td>\n      <td>0</td>\n      <td>60</td>\n      <td>2022</td>\n      <td>5</td>\n      <td>10</td>\n      <td>1</td>\n    </tr>\n  </tbody>\n</table>\n<p>8620 rows × 8 columns</p>\n</div>"
     },
     "execution_count": 8,
     "metadata": {},
     "output_type": "execute_result"
    }
   ],
   "source": [
    "data.loc[data['congestion'] > 0]"
   ],
   "metadata": {
    "collapsed": false,
    "pycharm": {
     "name": "#%%\n"
    }
   }
  },
  {
   "cell_type": "markdown",
   "source": [
    "Shuffle the data around"
   ],
   "metadata": {
    "collapsed": false,
    "pycharm": {
     "name": "#%% md\n"
    }
   }
  },
  {
   "cell_type": "code",
   "execution_count": 9,
   "outputs": [],
   "source": [
    "data = data.sample(frac=1, random_state=42).reset_index(drop=True)"
   ],
   "metadata": {
    "collapsed": false,
    "pycharm": {
     "name": "#%%\n"
    }
   }
  },
  {
   "cell_type": "markdown",
   "source": [
    "## The training model\n",
    "\n",
    "We prepare a decision tree model for training based on our data. In the following codecell all the parameters are defined declaratively using the sklearn API for Python"
   ],
   "metadata": {
    "collapsed": false,
    "pycharm": {
     "name": "#%% md\n"
    }
   }
  },
  {
   "cell_type": "code",
   "execution_count": 10,
   "outputs": [],
   "source": [
    "from sklearn.tree import DecisionTreeClassifier\n",
    "from sklearn.model_selection import train_test_split\n",
    "from sklearn import metrics\n",
    "from sklearn.preprocessing import OneHotEncoder"
   ],
   "metadata": {
    "collapsed": false,
    "pycharm": {
     "name": "#%%\n"
    }
   }
  },
  {
   "cell_type": "code",
   "execution_count": 11,
   "outputs": [
    {
     "data": {
      "text/plain": "        hour  day  station KΑT  station KΑTΕΧΑKΗ  station KΑTΩ ΑΧΑΡΝΑΙ  \\\n0         12    2            0                 0                     0   \n1          9    3            0                 0                     0   \n2         22    2            0                 0                     0   \n3         13    2            0                 0                     0   \n4          3    3            0                 0                     0   \n...      ...  ...          ...               ...                   ...   \n181424    14    3            0                 0                     0   \n181425    14    3            0                 0                     0   \n181426     9    4            0                 0                     0   \n181427    16    4            0                 0                     0   \n181428    12    3            0                 0                     0   \n\n        station KΑTΩ ΠΑTΗΣΙΑ  station KΑΛΛΙΘΕΑ  station KΕΡΑΜΕΙKOΣ  \\\n0                          0                 1                   0   \n1                          0                 0                   0   \n2                          0                 0                   0   \n3                          0                 0                   0   \n4                          0                 0                   0   \n...                      ...               ...                 ...   \n181424                     0                 0                   0   \n181425                     0                 0                   0   \n181426                     0                 0                   0   \n181427                     0                 0                   0   \n181428                     0                 0                   0   \n\n        station KΗΦΙΣΙΑ  station KΗΦΙΣΙΑΣ  ...  station ΠΕΥKΑKΙΑ  \\\n0                     0                 0  ...                 0   \n1                     0                 0  ...                 0   \n2                     0                 0  ...                 0   \n3                     0                 0  ...                 0   \n4                     0                 0  ...                 0   \n...                 ...               ...  ...               ...   \n181424                0                 0  ...                 0   \n181425                0                 0  ...                 0   \n181426                0                 0  ...                 0   \n181427                0                 0  ...                 0   \n181428                0                 0  ...                 0   \n\n        station ΡΕΝΤΗΣ  station ΣKΑ - ΑΧΑΡΝΑΙ  station ΣTΑΘΜOΣ ΛΑΡΙΣΗΣ  \\\n0                    0                      0                        0   \n1                    0                      1                        0   \n2                    0                      0                        0   \n3                    0                      0                        0   \n4                    0                      0                        0   \n...                ...                    ...                      ...   \n181424               0                      0                        0   \n181425               0                      0                        0   \n181426               0                      0                        0   \n181427               0                      0                        0   \n181428               1                      0                        0   \n\n        station ΣΕΠOΛΙΑ  station ΣΥΓΓΡΟΥ ΦΙΞ  station ΣΥΝTΑΓΜΑ  \\\n0                     0                    0                 0   \n1                     0                    0                 0   \n2                     0                    0                 0   \n3                     0                    0                 0   \n4                     0                    0                 0   \n...                 ...                  ...               ...   \n181424                0                    0                 0   \n181425                0                    0                 0   \n181426                0                    0                 0   \n181427                0                    0                 0   \n181428                0                    0                 0   \n\n        station ΦΑΛΗΡΟ  station ΧΑΛΑΝΔΡΙ  station ΧΟΛΑΡΓOΣ  \n0                    0                 0                 0  \n1                    0                 0                 0  \n2                    0                 0                 0  \n3                    0                 0                 0  \n4                    0                 0                 0  \n...                ...               ...               ...  \n181424               0                 0                 0  \n181425               0                 0                 0  \n181426               0                 0                 0  \n181427               0                 0                 0  \n181428               0                 0                 0  \n\n[181429 rows x 79 columns]",
      "text/html": "<div>\n<style scoped>\n    .dataframe tbody tr th:only-of-type {\n        vertical-align: middle;\n    }\n\n    .dataframe tbody tr th {\n        vertical-align: top;\n    }\n\n    .dataframe thead th {\n        text-align: right;\n    }\n</style>\n<table border=\"1\" class=\"dataframe\">\n  <thead>\n    <tr style=\"text-align: right;\">\n      <th></th>\n      <th>hour</th>\n      <th>day</th>\n      <th>station KΑT</th>\n      <th>station KΑTΕΧΑKΗ</th>\n      <th>station KΑTΩ ΑΧΑΡΝΑΙ</th>\n      <th>station KΑTΩ ΠΑTΗΣΙΑ</th>\n      <th>station KΑΛΛΙΘΕΑ</th>\n      <th>station KΕΡΑΜΕΙKOΣ</th>\n      <th>station KΗΦΙΣΙΑ</th>\n      <th>station KΗΦΙΣΙΑΣ</th>\n      <th>...</th>\n      <th>station ΠΕΥKΑKΙΑ</th>\n      <th>station ΡΕΝΤΗΣ</th>\n      <th>station ΣKΑ - ΑΧΑΡΝΑΙ</th>\n      <th>station ΣTΑΘΜOΣ ΛΑΡΙΣΗΣ</th>\n      <th>station ΣΕΠOΛΙΑ</th>\n      <th>station ΣΥΓΓΡΟΥ ΦΙΞ</th>\n      <th>station ΣΥΝTΑΓΜΑ</th>\n      <th>station ΦΑΛΗΡΟ</th>\n      <th>station ΧΑΛΑΝΔΡΙ</th>\n      <th>station ΧΟΛΑΡΓOΣ</th>\n    </tr>\n  </thead>\n  <tbody>\n    <tr>\n      <th>0</th>\n      <td>12</td>\n      <td>2</td>\n      <td>0</td>\n      <td>0</td>\n      <td>0</td>\n      <td>0</td>\n      <td>1</td>\n      <td>0</td>\n      <td>0</td>\n      <td>0</td>\n      <td>...</td>\n      <td>0</td>\n      <td>0</td>\n      <td>0</td>\n      <td>0</td>\n      <td>0</td>\n      <td>0</td>\n      <td>0</td>\n      <td>0</td>\n      <td>0</td>\n      <td>0</td>\n    </tr>\n    <tr>\n      <th>1</th>\n      <td>9</td>\n      <td>3</td>\n      <td>0</td>\n      <td>0</td>\n      <td>0</td>\n      <td>0</td>\n      <td>0</td>\n      <td>0</td>\n      <td>0</td>\n      <td>0</td>\n      <td>...</td>\n      <td>0</td>\n      <td>0</td>\n      <td>1</td>\n      <td>0</td>\n      <td>0</td>\n      <td>0</td>\n      <td>0</td>\n      <td>0</td>\n      <td>0</td>\n      <td>0</td>\n    </tr>\n    <tr>\n      <th>2</th>\n      <td>22</td>\n      <td>2</td>\n      <td>0</td>\n      <td>0</td>\n      <td>0</td>\n      <td>0</td>\n      <td>0</td>\n      <td>0</td>\n      <td>0</td>\n      <td>0</td>\n      <td>...</td>\n      <td>0</td>\n      <td>0</td>\n      <td>0</td>\n      <td>0</td>\n      <td>0</td>\n      <td>0</td>\n      <td>0</td>\n      <td>0</td>\n      <td>0</td>\n      <td>0</td>\n    </tr>\n    <tr>\n      <th>3</th>\n      <td>13</td>\n      <td>2</td>\n      <td>0</td>\n      <td>0</td>\n      <td>0</td>\n      <td>0</td>\n      <td>0</td>\n      <td>0</td>\n      <td>0</td>\n      <td>0</td>\n      <td>...</td>\n      <td>0</td>\n      <td>0</td>\n      <td>0</td>\n      <td>0</td>\n      <td>0</td>\n      <td>0</td>\n      <td>0</td>\n      <td>0</td>\n      <td>0</td>\n      <td>0</td>\n    </tr>\n    <tr>\n      <th>4</th>\n      <td>3</td>\n      <td>3</td>\n      <td>0</td>\n      <td>0</td>\n      <td>0</td>\n      <td>0</td>\n      <td>0</td>\n      <td>0</td>\n      <td>0</td>\n      <td>0</td>\n      <td>...</td>\n      <td>0</td>\n      <td>0</td>\n      <td>0</td>\n      <td>0</td>\n      <td>0</td>\n      <td>0</td>\n      <td>0</td>\n      <td>0</td>\n      <td>0</td>\n      <td>0</td>\n    </tr>\n    <tr>\n      <th>...</th>\n      <td>...</td>\n      <td>...</td>\n      <td>...</td>\n      <td>...</td>\n      <td>...</td>\n      <td>...</td>\n      <td>...</td>\n      <td>...</td>\n      <td>...</td>\n      <td>...</td>\n      <td>...</td>\n      <td>...</td>\n      <td>...</td>\n      <td>...</td>\n      <td>...</td>\n      <td>...</td>\n      <td>...</td>\n      <td>...</td>\n      <td>...</td>\n      <td>...</td>\n      <td>...</td>\n    </tr>\n    <tr>\n      <th>181424</th>\n      <td>14</td>\n      <td>3</td>\n      <td>0</td>\n      <td>0</td>\n      <td>0</td>\n      <td>0</td>\n      <td>0</td>\n      <td>0</td>\n      <td>0</td>\n      <td>0</td>\n      <td>...</td>\n      <td>0</td>\n      <td>0</td>\n      <td>0</td>\n      <td>0</td>\n      <td>0</td>\n      <td>0</td>\n      <td>0</td>\n      <td>0</td>\n      <td>0</td>\n      <td>0</td>\n    </tr>\n    <tr>\n      <th>181425</th>\n      <td>14</td>\n      <td>3</td>\n      <td>0</td>\n      <td>0</td>\n      <td>0</td>\n      <td>0</td>\n      <td>0</td>\n      <td>0</td>\n      <td>0</td>\n      <td>0</td>\n      <td>...</td>\n      <td>0</td>\n      <td>0</td>\n      <td>0</td>\n      <td>0</td>\n      <td>0</td>\n      <td>0</td>\n      <td>0</td>\n      <td>0</td>\n      <td>0</td>\n      <td>0</td>\n    </tr>\n    <tr>\n      <th>181426</th>\n      <td>9</td>\n      <td>4</td>\n      <td>0</td>\n      <td>0</td>\n      <td>0</td>\n      <td>0</td>\n      <td>0</td>\n      <td>0</td>\n      <td>0</td>\n      <td>0</td>\n      <td>...</td>\n      <td>0</td>\n      <td>0</td>\n      <td>0</td>\n      <td>0</td>\n      <td>0</td>\n      <td>0</td>\n      <td>0</td>\n      <td>0</td>\n      <td>0</td>\n      <td>0</td>\n    </tr>\n    <tr>\n      <th>181427</th>\n      <td>16</td>\n      <td>4</td>\n      <td>0</td>\n      <td>0</td>\n      <td>0</td>\n      <td>0</td>\n      <td>0</td>\n      <td>0</td>\n      <td>0</td>\n      <td>0</td>\n      <td>...</td>\n      <td>0</td>\n      <td>0</td>\n      <td>0</td>\n      <td>0</td>\n      <td>0</td>\n      <td>0</td>\n      <td>0</td>\n      <td>0</td>\n      <td>0</td>\n      <td>0</td>\n    </tr>\n    <tr>\n      <th>181428</th>\n      <td>12</td>\n      <td>3</td>\n      <td>0</td>\n      <td>0</td>\n      <td>0</td>\n      <td>0</td>\n      <td>0</td>\n      <td>0</td>\n      <td>0</td>\n      <td>0</td>\n      <td>...</td>\n      <td>0</td>\n      <td>1</td>\n      <td>0</td>\n      <td>0</td>\n      <td>0</td>\n      <td>0</td>\n      <td>0</td>\n      <td>0</td>\n      <td>0</td>\n      <td>0</td>\n    </tr>\n  </tbody>\n</table>\n<p>181429 rows × 79 columns</p>\n</div>"
     },
     "execution_count": 11,
     "metadata": {},
     "output_type": "execute_result"
    }
   ],
   "source": [
    "x = data[['station', 'hour', 'day']]\n",
    "y = data[['congestion']]\n",
    "x = pd.get_dummies(x, columns=['station'], prefix=\"station\", prefix_sep=\" \")\n",
    "x_train, x_test, y_train, y_test = train_test_split(x, y, test_size=0.3, random_state=1)\n",
    "\n",
    "x"
   ],
   "metadata": {
    "collapsed": false,
    "pycharm": {
     "name": "#%%\n"
    }
   }
  },
  {
   "cell_type": "code",
   "execution_count": 12,
   "outputs": [],
   "source": [
    "cls = DecisionTreeClassifier()\n",
    "\n",
    "estimator = cls.fit(x_train, y_train)"
   ],
   "metadata": {
    "collapsed": false,
    "pycharm": {
     "name": "#%%\n"
    }
   }
  },
  {
   "cell_type": "code",
   "execution_count": null,
   "outputs": [],
   "source": [],
   "metadata": {
    "collapsed": false,
    "pycharm": {
     "name": "#%%\n"
    }
   }
  }
 ],
 "metadata": {
  "kernelspec": {
   "display_name": "Python 3",
   "language": "python",
   "name": "python3"
  },
  "language_info": {
   "codemirror_mode": {
    "name": "ipython",
    "version": 2
   },
   "file_extension": ".py",
   "mimetype": "text/x-python",
   "name": "python",
   "nbconvert_exporter": "python",
   "pygments_lexer": "ipython2",
   "version": "2.7.6"
  }
 },
 "nbformat": 4,
 "nbformat_minor": 0
}